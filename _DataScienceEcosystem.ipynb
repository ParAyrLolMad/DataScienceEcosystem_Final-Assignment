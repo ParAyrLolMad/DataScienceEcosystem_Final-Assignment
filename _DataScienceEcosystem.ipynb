{
 "cells": [
  {
   "cell_type": "markdown",
   "id": "21e86364-d332-4d9d-94bc-9ea16e63e930",
   "metadata": {},
   "source": [
    "# Data Science Tools and Ecosystem"
   ]
  },
  {
   "cell_type": "markdown",
   "id": "419baeef-55f9-443c-a0a6-08bb04e16393",
   "metadata": {},
   "source": [
    "**Objectives**"
   ]
  },
  {
   "cell_type": "markdown",
   "id": "1b3b3e5d-0165-4745-96d2-c6d4cb315577",
   "metadata": {},
   "source": [
    "- List popular languages that Data Scientists use\n",
    "- List commonly used libraries used by Data Scientists\n",
    "- List Data Science Tools\n",
    "- Execute some arithmentic expressions in Python"
   ]
  },
  {
   "cell_type": "markdown",
   "id": "c63352a2-e2f5-455b-af2a-aba91de86a7b",
   "metadata": {},
   "source": [
    "In this notebook, Data Science Tools and Ecosystem are summarized."
   ]
  },
  {
   "cell_type": "markdown",
   "id": "7e2d7294-ec97-46b9-ac76-4d0a31675728",
   "metadata": {},
   "source": [
    "Some of the popular languages that Data Scientists use are:\n",
    "1. Python\n",
    "2. JavaScript\n",
    "3. Java"
   ]
  },
  {
   "cell_type": "markdown",
   "id": "35808ab0-3858-47ea-9243-3d3d74a1c838",
   "metadata": {},
   "source": [
    "Some of the commonly used libraries used by Data Scientists include:\n",
    "1. Numpy\n",
    "2. Pandas\n",
    "3. Matpoltib\n",
    "4. Scikit-learn\n"
   ]
  },
  {
   "cell_type": "markdown",
   "id": "ed2477bf-19e1-403d-a14f-8e092751bde9",
   "metadata": {},
   "source": [
    "|Data Science Tools|\n",
    "|------------------| \n",
    "|Jupyter Notebooks\n",
    "|RStudio|\n",
    "|VS Code|\n",
    "|Apache Spark|    "
   ]
  },
  {
   "cell_type": "markdown",
   "id": "2d7c369b-d6da-4275-8747-8681d5fbf574",
   "metadata": {},
   "source": [
    "### Below are a few examples of evaluating arithmetic expressions in Python\n"
   ]
  },
  {
   "cell_type": "markdown",
   "id": "237706ad-09db-47a1-a035-ab2e459e7951",
   "metadata": {},
   "source": [
    "This a simple arithmetic expression to mutiply then add integers"
   ]
  },
  {
   "cell_type": "code",
   "execution_count": 3,
   "id": "a155f23f-afd2-4c7f-9e79-01a7cd61d5cc",
   "metadata": {},
   "outputs": [
    {
     "data": {
      "text/plain": [
       "17"
      ]
     },
     "execution_count": 3,
     "metadata": {},
     "output_type": "execute_result"
    }
   ],
   "source": [
    "(3*4)+5\n"
   ]
  },
  {
   "cell_type": "markdown",
   "id": "96dfe0ed-c2db-4862-b408-57cf39b6a8bf",
   "metadata": {},
   "source": [
    "This will convert 200 minutes to hours by diving by 60."
   ]
  },
  {
   "cell_type": "code",
   "execution_count": 9,
   "id": "94e92622-b34a-4200-a383-3a08df847746",
   "metadata": {
    "scrolled": true
   },
   "outputs": [
    {
     "name": "stdout",
     "output_type": "stream",
     "text": [
      "200 minutes is equal to 3.3333333333333335 hours.\n"
     ]
    }
   ],
   "source": [
    "minutes=200\n",
    "hours=minutes/60\n",
    "print(f\"{minutes} minutes is equal to {hours} hours.\")"
   ]
  },
  {
   "cell_type": "code",
   "execution_count": 8,
   "id": "42d37782-ee8f-4fcd-a22f-716395442af1",
   "metadata": {},
   "outputs": [
    {
     "name": "stdout",
     "output_type": "stream",
     "text": [
      "3.3333333333333335\n"
     ]
    }
   ],
   "source": [
    "minutes=200\n",
    "hours=minutes/60\n",
    "print(hours)"
   ]
  },
  {
   "cell_type": "markdown",
   "id": "ad561091-1080-482c-9063-59c31469b850",
   "metadata": {},
   "source": [
    "## Author\n",
    "Parviz"
   ]
  },
  {
   "cell_type": "code",
   "execution_count": null,
   "id": "a5691a65-f313-4713-b279-0b97320d54e4",
   "metadata": {},
   "outputs": [],
   "source": []
  }
 ],
 "metadata": {
  "kernelspec": {
   "display_name": "Python 3 (ipykernel)",
   "language": "python",
   "name": "python3"
  },
  "language_info": {
   "codemirror_mode": {
    "name": "ipython",
    "version": 3
   },
   "file_extension": ".py",
   "mimetype": "text/x-python",
   "name": "python",
   "nbconvert_exporter": "python",
   "pygments_lexer": "ipython3",
   "version": "3.11.7"
  }
 },
 "nbformat": 4,
 "nbformat_minor": 5
}
